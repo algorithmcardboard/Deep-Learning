{
 "cells": [
  {
   "cell_type": "code",
   "execution_count": 1,
   "metadata": {
    "collapsed": false
   },
   "outputs": [],
   "source": [
    "require 'cunn'\n",
    "require 'manifold'"
   ]
  },
  {
   "cell_type": "code",
   "execution_count": 2,
   "metadata": {
    "collapsed": false
   },
   "outputs": [],
   "source": [
    "model = torch.load('logs_default/vgg/model.net0.715')"
   ]
  },
  {
   "cell_type": "code",
   "execution_count": 3,
   "metadata": {
    "collapsed": false
   },
   "outputs": [],
   "source": [
    "dofile './provider.lua'\n",
    "provider = torch.load('provider.t7')"
   ]
  },
  {
   "cell_type": "code",
   "execution_count": 4,
   "metadata": {
    "collapsed": false
   },
   "outputs": [
    {
     "data": {
      "text/plain": [
       "\n"
      ]
     },
     "execution_count": 4,
     "metadata": {},
     "output_type": "execute_result"
    }
   ],
   "source": [
    "model:remove(54)"
   ]
  },
  {
   "cell_type": "code",
   "execution_count": 5,
   "metadata": {
    "collapsed": true
   },
   "outputs": [],
   "source": [
    "provider.trainData.data = provider.trainData.data:float()\n",
    "provider.valData.data = provider.valData.data:float()"
   ]
  },
  {
   "cell_type": "code",
   "execution_count": 6,
   "metadata": {
    "collapsed": false
   },
   "outputs": [
    {
     "data": {
      "text/plain": [
       " 1000\n",
       "    3\n",
       "   96\n",
       "   96\n",
       "[torch.LongStorage of size 4]\n",
       "\n"
      ]
     },
     "execution_count": 6,
     "metadata": {},
     "output_type": "execute_result"
    }
   ],
   "source": [
    "provider.valData.data:size()"
   ]
  },
  {
   "cell_type": "code",
   "execution_count": 7,
   "metadata": {
    "collapsed": false
   },
   "outputs": [
    {
     "ename": "/home/ubuntu/torch/install/share/lua/5.1/nn/THNN.lua:1077: cuda runtime error (2) : out of memory at /tmp/luarocks_cutorch-scm-1-3071/cutorch/lib/THC/generic/THCStorage.cu:40\nstack traceback:\n\t[C]: in function 'v'\n\t/home/ubuntu/torch/install/share/lua/5.1/nn/THNN.lua:1077: in function 'SpatialConvolutionMM_updateOutput'\n\t...tu/torch/install/share/lua/5.1/nn/SpatialConvolution.lua:104: in function 'updateOutput'\n\t/home/ubuntu/torch/install/share/lua/5.1/nn/Sequential.lua:44: in function 'forward'\n\t[string \"outputs = model:forward(provider.valData.data...\"]:1: in main chunk\n\t[C]: in function 'xpcall'\n\t/home/ubuntu/torch/install/share/lua/5.1/itorch/main.lua:209: in function </home/ubuntu/torch/install/share/lua/5.1/itorch/main.lua:173>\n\t/home/ubuntu/torch/install/share/lua/5.1/lzmq/poller.lua:75: in function 'poll'\n\t/home/ubuntu/torch/install/share/lua/5.1/lzmq/impl/loop.lua:307: in function 'poll'\n\t/home/ubuntu/torch/install/share/lua/5.1/lzmq/impl/loop.lua:325: in function 'sleep_ex'\n\t/home/ubuntu/torch/install/share/lua/5.1/lzmq/impl/loop.lua:370: in function 'start'\n\t/home/ubuntu/torch/install/share/lua/5.1/itorch/main.lua:381: in main chunk\n\t[C]: in function 'require'\n\t(command line):1: in main chunk\n\t[C]: at 0x00406670",
     "evalue": "",
     "output_type": "error",
     "traceback": [
      "/home/ubuntu/torch/install/share/lua/5.1/nn/THNN.lua:1077: cuda runtime error (2) : out of memory at /tmp/luarocks_cutorch-scm-1-3071/cutorch/lib/THC/generic/THCStorage.cu:40\nstack traceback:\n\t[C]: in function 'v'\n\t/home/ubuntu/torch/install/share/lua/5.1/nn/THNN.lua:1077: in function 'SpatialConvolutionMM_updateOutput'\n\t...tu/torch/install/share/lua/5.1/nn/SpatialConvolution.lua:104: in function 'updateOutput'\n\t/home/ubuntu/torch/install/share/lua/5.1/nn/Sequential.lua:44: in function 'forward'\n\t[string \"outputs = model:forward(provider.valData.data...\"]:1: in main chunk\n\t[C]: in function 'xpcall'\n\t/home/ubuntu/torch/install/share/lua/5.1/itorch/main.lua:209: in function </home/ubuntu/torch/install/share/lua/5.1/itorch/main.lua:173>\n\t/home/ubuntu/torch/install/share/lua/5.1/lzmq/poller.lua:75: in function 'poll'\n\t/home/ubuntu/torch/install/share/lua/5.1/lzmq/impl/loop.lua:307: in function 'poll'\n\t/home/ubuntu/torch/install/share/lua/5.1/lzmq/impl/loop.lua:325: in function 'sleep_ex'\n\t/home/ubuntu/torch/install/share/lua/5.1/lzmq/impl/loop.lua:370: in function 'start'\n\t/home/ubuntu/torch/install/share/lua/5.1/itorch/main.lua:381: in main chunk\n\t[C]: in function 'require'\n\t(command line):1: in main chunk\n\t[C]: at 0x00406670"
     ]
    }
   ],
   "source": [
    "outputs = model:forward(provider.valData.data[{{1,100}, {}, {}, {}}]:cuda())"
   ]
  },
  {
   "cell_type": "code",
   "execution_count": null,
   "metadata": {
    "collapsed": true
   },
   "outputs": [],
   "source": []
  }
 ],
 "metadata": {
  "kernelspec": {
   "display_name": "iTorch",
   "language": "lua",
   "name": "itorch"
  },
  "language_info": {
   "name": "lua",
   "version": "5.1"
  }
 },
 "nbformat": 4,
 "nbformat_minor": 0
}
