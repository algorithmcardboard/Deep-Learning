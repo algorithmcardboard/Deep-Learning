{
 "cells": [
  {
   "cell_type": "code",
   "execution_count": 1,
   "metadata": {
    "collapsed": false
   },
   "outputs": [
    {
     "data": {
      "text/plain": [
       "{\n",
       "  setDebug : function: 0x408cc798\n",
       "  Node : table: 0x408bf2d8\n",
       "  JustTable : table: 0x408d0f38\n",
       "  annotateNodes : function: 0x408cc888\n",
       "  nest : function: 0x41e0ab30\n",
       "  JustElement : table: 0x408cfd70\n",
       "  simple_print : \n",
       "    {\n",
       "      todot : function: 0x408d4ea8\n",
       "      dot : function: 0x408d4f20\n",
       "    }\n",
       "  display : function: 0x408cc8a8\n",
       "}\n"
      ]
     },
     "execution_count": 1,
     "metadata": {},
     "output_type": "execute_result"
    }
   ],
   "source": [
    "require 'nngraph'"
   ]
  },
  {
   "cell_type": "code",
   "execution_count": 2,
   "metadata": {
    "collapsed": false
   },
   "outputs": [
    {
     "ename": "/home/anirudhan/torch/install/share/lua/5.1/qtsvg/init.lua:2: module 'qt' not found:\n\tno field package.preload['qt']\n\tno file '/home/anirudhan/.luarocks/share/lua/5.1/qt.lua'\n\tno file '/home/anirudhan/.luarocks/share/lua/5.1/qt/init.lua'\n\tno file '/home/anirudhan/torch/install/share/lua/5.1/qt.lua'\n\tno file '/home/anirudhan/torch/install/share/lua/5.1/qt/init.lua'\n\tno file './qt.lua'\n\tno file '/home/anirudhan/torch/install/share/luajit-2.1.0-beta1/qt.lua'\n\tno file '/usr/local/share/lua/5.1/qt.lua'\n\tno file '/usr/local/share/lua/5.1/qt/init.lua'\n\tno file '/home/anirudhan/torch/install/lib/qt.so'\n\tno file '/home/anirudhan/.luarocks/lib/lua/5.1/qt.so'\n\tno file '/home/anirudhan/torch/install/lib/lua/5.1/qt.so'\n\tno file './qt.so'\n\tno file '/usr/local/lib/lua/5.1/qt.so'\n\tno file '/usr/local/lib/lua/5.1/loadall.so'\nstack traceback:\n\t[C]: in function 'require'\n\t/home/anirudhan/torch/install/share/lua/5.1/qtsvg/init.lua:2: in main chunk\n\t[C]: in function 'require'\n\t...anirudhan/torch/install/share/lua/5.1/graph/graphviz.lua:198: in function 'dot'\n\t[string \"h1 = nn.Linear(20, 10)()...\"]:12: in main chunk\n\t[C]: in function 'xpcall'\n\t/home/anirudhan/torch/install/share/lua/5.1/itorch/main.lua:209: in function </home/anirudhan/torch/install/share/lua/5.1/itorch/main.lua:173>\n\t/home/anirudhan/torch/install/share/lua/5.1/lzmq/poller.lua:75: in function 'poll'\n\t...anirudhan/torch/install/share/lua/5.1/lzmq/impl/loop.lua:307: in function 'poll'\n\t...anirudhan/torch/install/share/lua/5.1/lzmq/impl/loop.lua:325: in function 'sleep_ex'\n\t...anirudhan/torch/install/share/lua/5.1/lzmq/impl/loop.lua:370: in function 'start'\n\t/home/anirudhan/torch/install/share/lua/5.1/itorch/main.lua:381: in main chunk\n\t[C]: in function 'require'\n\t(command line):1: in main chunk\n\t[C]: at 0x00406670",
     "evalue": "",
     "output_type": "error",
     "traceback": [
      "/home/anirudhan/torch/install/share/lua/5.1/qtsvg/init.lua:2: module 'qt' not found:\n\tno field package.preload['qt']\n\tno file '/home/anirudhan/.luarocks/share/lua/5.1/qt.lua'\n\tno file '/home/anirudhan/.luarocks/share/lua/5.1/qt/init.lua'\n\tno file '/home/anirudhan/torch/install/share/lua/5.1/qt.lua'\n\tno file '/home/anirudhan/torch/install/share/lua/5.1/qt/init.lua'\n\tno file './qt.lua'\n\tno file '/home/anirudhan/torch/install/share/luajit-2.1.0-beta1/qt.lua'\n\tno file '/usr/local/share/lua/5.1/qt.lua'\n\tno file '/usr/local/share/lua/5.1/qt/init.lua'\n\tno file '/home/anirudhan/torch/install/lib/qt.so'\n\tno file '/home/anirudhan/.luarocks/lib/lua/5.1/qt.so'\n\tno file '/home/anirudhan/torch/install/lib/lua/5.1/qt.so'\n\tno file './qt.so'\n\tno file '/usr/local/lib/lua/5.1/qt.so'\n\tno file '/usr/local/lib/lua/5.1/loadall.so'\nstack traceback:\n\t[C]: in function 'require'\n\t/home/anirudhan/torch/install/share/lua/5.1/qtsvg/init.lua:2: in main chunk\n\t[C]: in function 'require'\n\t...anirudhan/torch/install/share/lua/5.1/graph/graphviz.lua:198: in function 'dot'\n\t[string \"h1 = nn.Linear(20, 10)()...\"]:12: in main chunk\n\t[C]: in function 'xpcall'\n\t/home/anirudhan/torch/install/share/lua/5.1/itorch/main.lua:209: in function </home/anirudhan/torch/install/share/lua/5.1/itorch/main.lua:173>\n\t/home/anirudhan/torch/install/share/lua/5.1/lzmq/poller.lua:75: in function 'poll'\n\t...anirudhan/torch/install/share/lua/5.1/lzmq/impl/loop.lua:307: in function 'poll'\n\t...anirudhan/torch/install/share/lua/5.1/lzmq/impl/loop.lua:325: in function 'sleep_ex'\n\t...anirudhan/torch/install/share/lua/5.1/lzmq/impl/loop.lua:370: in function 'start'\n\t/home/anirudhan/torch/install/share/lua/5.1/itorch/main.lua:381: in main chunk\n\t[C]: in function 'require'\n\t(command line):1: in main chunk\n\t[C]: at 0x00406670"
     ]
    }
   ],
   "source": [
    "h1 = nn.Linear(20, 10)()\n",
    "h2 = nn.Linear(10, 1)(nn.Tanh()(nn.Linear(10, 10)(nn.Tanh()(h1))))\n",
    "mlp = nn.gModule({h1}, {h2})\n",
    "\n",
    "x = torch.rand(20)\n",
    "dx = torch.rand(1)\n",
    "mlp:updateOutput(x)\n",
    "mlp:updateGradInput(x, dx)\n",
    "mlp:accGradParameters(x, dx)\n",
    "\n",
    "-- draw graph (the forward graph, '.fg')\n",
    "graph.dot(mlp.fg, 'MLP')"
   ]
  },
  {
   "cell_type": "code",
   "execution_count": null,
   "metadata": {
    "collapsed": true
   },
   "outputs": [],
   "source": []
  }
 ],
 "metadata": {
  "kernelspec": {
   "display_name": "iTorch",
   "language": "lua",
   "name": "itorch"
  },
  "language_info": {
   "name": "lua",
   "version": "5.1"
  }
 },
 "nbformat": 4,
 "nbformat_minor": 0
}
